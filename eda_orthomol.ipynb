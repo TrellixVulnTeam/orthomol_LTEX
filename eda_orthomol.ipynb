{
 "cells": [
  {
   "cell_type": "code",
   "execution_count": 2,
   "metadata": {},
   "outputs": [],
   "source": [
    "#Load Libraries\n",
    "from oauth2client.service_account import ServiceAccountCredentials\n",
    "from googleapiclient.discovery import build\n",
    "import httplib2\n",
    "import pandas as pd"
   ]
  },
  {
   "cell_type": "code",
   "execution_count": 47,
   "metadata": {},
   "outputs": [],
   "source": [
    "SCOPES = ['https://www.googleapis.com/auth/analytics.readonly']\n",
    "KEY_FILE_LOCATION = 'auth/service_account.json'\n",
    "VIEW_ID = '246084583'"
   ]
  },
  {
   "cell_type": "code",
   "execution_count": 48,
   "metadata": {},
   "outputs": [],
   "source": [
    "start_date = '2021-07-01'\n",
    "end_date = '2022-06-30'\n",
    "\n",
    "credentials = ServiceAccountCredentials.from_json_keyfile_name(KEY_FILE_LOCATION, SCOPES)\n",
    "\n",
    "# Build the service object.\n",
    "analytics = build('analyticsreporting', 'v4', credentials=credentials)\n",
    "\n",
    "ga_data = analytics.reports().batchGet(body={\n",
    "    \"reportRequests\": [{\n",
    "        \"viewId\": VIEW_ID,\n",
    "        \"pageSize\": 1000000,\n",
    "        \"dateRanges\": [{\"startDate\": start_date, \"endDate\": end_date}],\n",
    "        \"metrics\": [\n",
    "            {\"expression\": \"ga:users\"},\n",
    "            {\"expression\": \"ga:sessions\"},\n",
    "            {\"expression\": \"ga:goal4Completions\"},\n",
    "            {\"expression\": \"ga:goal5Completions\"}\n",
    "        ], \n",
    "        \"dimensions\": [\n",
    "            {\"name\": \"ga:date\"},\n",
    "            {\"name\": \"ga:campaign\"},\n",
    "            {\"name\": \"ga:source\"},\n",
    "            {'name': 'ga:medium'}\n",
    "        ]\n",
    "        # \"dimensionFilterClauses\": [\n",
    "        #   {\"filters\": [{\n",
    "        #     \"dimensionName\": \"ga:medium\",\n",
    "        #     \"operator\": \"REGEXP\",\n",
    "        #     \"expressions\": [\"cpc\"]\n",
    "        #     }]}, \n",
    "        #   {\"filters\": [{\n",
    "        #     \"dimensionName\": \"ga:source\",\n",
    "        #     \"operator\": \"REGEXP\",\n",
    "        #     \"expressions\": [\"google|bing\"]\n",
    "        #     }]}\n",
    "        # ]\n",
    "    }]}).execute()"
   ]
  },
  {
   "cell_type": "code",
   "execution_count": 49,
   "metadata": {},
   "outputs": [],
   "source": [
    "# Funktion für die Umwandlung der Response (list) in ein Dataframe\n",
    "\n",
    "def ga_response_dataframe(response):\n",
    "    row_list = []\n",
    "    # Get each collected report\n",
    "    for report in response.get('reports', []):\n",
    "        # Set column headers\n",
    "        column_header = report.get('columnHeader', {})\n",
    "        dimension_headers = column_header.get('dimensions', [])\n",
    "        metric_headers = column_header.get('metricHeader', {}).get('metricHeaderEntries', [])\n",
    "    \n",
    "        # Get each row in the report\n",
    "        for row in report.get('data', {}).get('rows', []):\n",
    "            # create dict for each row\n",
    "            row_dict = {}\n",
    "            dimensions = row.get('dimensions', [])\n",
    "            date_range_values = row.get('metrics', [])\n",
    "\n",
    "            # Fill dict with dimension header (key) and dimension value (value)\n",
    "            for header, dimension in zip(dimension_headers, dimensions):\n",
    "                row_dict[header] = dimension\n",
    "\n",
    "            # Fill dict with metric header (key) and metric value (value)\n",
    "            for i, values in enumerate(date_range_values):\n",
    "                for metric, value in zip(metric_headers, values.get('values')):\n",
    "                # Set int as int, float a float\n",
    "                    if ',' in value or '.' in value:\n",
    "                        row_dict[metric.get('name')] = float(value)\n",
    "                    else:\n",
    "                        row_dict[metric.get('name')] = int(value)\n",
    "\n",
    "            row_list.append(row_dict)\n",
    "    # return (row_list)\n",
    "    df = pd.DataFrame(row_list)\n",
    "    df.columns = df.columns.str.replace('ga:', '', regex=True)\n",
    "    return df"
   ]
  },
  {
   "cell_type": "code",
   "execution_count": 37,
   "metadata": {},
   "outputs": [],
   "source": [
    "del (start_date, end_date, VIEW_ID, KEY_FILE_LOCATION, SCOPES, credentials, analytics)"
   ]
  },
  {
   "cell_type": "code",
   "execution_count": 50,
   "metadata": {},
   "outputs": [],
   "source": [
    "ga_data = ga_response_dataframe(ga_data)"
   ]
  },
  {
   "cell_type": "code",
   "execution_count": null,
   "metadata": {},
   "outputs": [],
   "source": [
    "ga_data.head()"
   ]
  },
  {
   "cell_type": "code",
   "execution_count": 53,
   "metadata": {},
   "outputs": [],
   "source": [
    "ga_data.rename({'goal4Completions':'jetzt_bestellen', 'goal5Completions':'kennenlernset_anfordern'}, axis='columns', inplace=True)"
   ]
  },
  {
   "cell_type": "code",
   "execution_count": null,
   "metadata": {},
   "outputs": [],
   "source": []
  }
 ],
 "metadata": {
  "kernelspec": {
   "display_name": "Python 3.8.10 ('orthomol_env': venv)",
   "language": "python",
   "name": "python3"
  },
  "language_info": {
   "codemirror_mode": {
    "name": "ipython",
    "version": 3
   },
   "file_extension": ".py",
   "mimetype": "text/x-python",
   "name": "python",
   "nbconvert_exporter": "python",
   "pygments_lexer": "ipython3",
   "version": "3.8.10"
  },
  "orig_nbformat": 4,
  "vscode": {
   "interpreter": {
    "hash": "69a40ead643efd4421a16332519da9e2f85661c1d6ed0523e40f865d78dc8742"
   }
  }
 },
 "nbformat": 4,
 "nbformat_minor": 2
}
